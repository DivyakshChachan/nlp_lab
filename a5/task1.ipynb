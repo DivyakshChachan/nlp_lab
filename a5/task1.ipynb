{
 "cells": [
  {
   "cell_type": "code",
   "execution_count": 4,
   "id": "dfda6083",
   "metadata": {},
   "outputs": [],
   "source": [
    "import pandas as pd\n",
    "import numpy as np\n",
    "import random"
   ]
  },
  {
   "cell_type": "code",
   "execution_count": 5,
   "id": "4ff9638a",
   "metadata": {},
   "outputs": [
    {
     "name": "stdout",
     "output_type": "stream",
     "text": [
      "                                                  sentence\n",
      "3931983  आज  भी  वो  अपने  स्टंनिंग  लुक  में  अपने  से...\n",
      "230791   पूजा  अगर  शुभ  मुहूर्त  पर  हो  तो  आपको  इसक...\n",
      "1594180  आराम  करने  के  बाद  अभ्यास  के  बाद  दोनों  ध...\n",
      "2344711  उन्होंने  मजदूरों  के  विभिन्न  समस्याओं  और  ...\n",
      "4488086  जैन  धर्म  के  प्रथम  तीर्थंकर  भगवान  श्रीआदि...\n",
      "4549603                           डिजिटल  डेस्क , जबलपुर ।\n",
      "3678810  पुलिस  सूत्रों  के  मुताबिक  युवती  मिर्गी  रो...\n",
      "954638   आम  सिर्फ  स्वादिष्ट  ही  नहीं  होता  बल्कि  इ...\n",
      "3350350  पिथौरागढ़ , जेएनएन  दो  दिन  बारिश  के  बाद  ग...\n",
      "2272293  इसमें  कहा  गया  है  कि  मौजूदा  कानून  के  तह... \n",
      "\n",
      "\n",
      "Total sentences: 4800107\n"
     ]
    }
   ],
   "source": [
    "with open(r\"C:\\Users\\evilk\\OneDrive\\Desktop\\III YEAR\\LABS\\NLP\\LAB1\\tokenized_hindi.txt\", \"r\", encoding=\"utf-8\") as f:\n",
    "    sentences = [line.strip() for line in f if line.strip()]  \n",
    "\n",
    "# Wrap in DataFrame for convenience\n",
    "df = pd.DataFrame(sentences, columns=[\"sentence\"])\n",
    "\n",
    "# Show 10 random sentences\n",
    "print(df.sample(10),\"\\n\\n\")\n",
    "print(\"Total sentences:\", len(df))"
   ]
  },
  {
   "cell_type": "code",
   "execution_count": 6,
   "id": "9f519f41",
   "metadata": {},
   "outputs": [
    {
     "name": "stdout",
     "output_type": "stream",
     "text": [
      "4798107\n",
      "1000\n",
      "1000\n"
     ]
    }
   ],
   "source": [
    "np.random.seed(42)\n",
    "\n",
    "indices=np.random.permutation(len(df))\n",
    "\n",
    "val_idx =indices[:1000]\n",
    "test_idx=indices[1000:2000]\n",
    "train_idx =indices[2000:]\n",
    "\n",
    "val=df.iloc[val_idx]\n",
    "test=df.iloc[test_idx]\n",
    "train=df.iloc[train_idx]\n",
    "\n",
    "print(len(train))\n",
    "print(len(val))\n",
    "print(len(test))"
   ]
  },
  {
   "cell_type": "code",
   "execution_count": 7,
   "id": "e2454806",
   "metadata": {},
   "outputs": [
    {
     "name": "stdout",
     "output_type": "stream",
     "text": [
      "Data splits saved successfully.\n"
     ]
    }
   ],
   "source": [
    "train.to_csv(\"train_sentences.csv\", index=False, encoding=\"utf-8\")\n",
    "val.to_csv(\"val_sentences.csv\", index=False, encoding=\"utf-8\")\n",
    "test.to_csv(\"test_sentences.csv\", index=False, encoding=\"utf-8\")\n",
    "\n",
    "print(\"Data splits saved successfully.\")\n"
   ]
  }
 ],
 "metadata": {
  "kernelspec": {
   "display_name": "base",
   "language": "python",
   "name": "python3"
  },
  "language_info": {
   "codemirror_mode": {
    "name": "ipython",
    "version": 3
   },
   "file_extension": ".py",
   "mimetype": "text/x-python",
   "name": "python",
   "nbconvert_exporter": "python",
   "pygments_lexer": "ipython3",
   "version": "3.13.5"
  }
 },
 "nbformat": 4,
 "nbformat_minor": 5
}
