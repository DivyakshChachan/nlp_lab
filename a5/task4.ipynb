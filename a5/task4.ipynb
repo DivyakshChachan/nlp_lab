{
 "cells": [
  {
   "cell_type": "code",
   "execution_count": 5,
   "id": "c5494b4b",
   "metadata": {},
   "outputs": [
    {
     "name": "stdout",
     "output_type": "stream",
     "text": [
      "Unigrams: 199997\n",
      "Bigrams: 200000\n",
      "Trigrams: 200000\n",
      "Quadrigrams: 200000\n"
     ]
    }
   ],
   "source": [
    "import pandas as pd\n",
    "import numpy as np\n",
    "import math\n",
    "from collections import Counter\n",
    "from sklearn.model_selection import KFold\n",
    "\n",
    "def load_counter(csv_file):\n",
    "    df = pd.read_csv(csv_file)\n",
    "    df[\"Ngram\"] = df[\"Ngram\"].astype(str)\n",
    "    df[\"Count\"] = df[\"Count\"].astype(int)\n",
    "    return Counter(dict(zip(df[\"Ngram\"], df[\"Count\"])))\n",
    "\n",
    "# Load n-gram counts\n",
    "unigram_c    = load_counter(r\"C:\\Users\\evilk\\OneDrive\\Desktop\\III YEAR\\LABS\\NLP\\LAB4\\unigram.csv\")\n",
    "bigram_c     = load_counter(r\"C:\\Users\\evilk\\OneDrive\\Desktop\\III YEAR\\LABS\\NLP\\LAB4\\bigram.csv\")\n",
    "trigram_c    = load_counter(r\"C:\\Users\\evilk\\OneDrive\\Desktop\\III YEAR\\LABS\\NLP\\LAB4\\trigram.csv\")\n",
    "quadrigram_c = load_counter(r\"C:\\Users\\evilk\\OneDrive\\Desktop\\III YEAR\\LABS\\NLP\\LAB4\\quadrigram.csv\")\n",
    "\n",
    "print(\"Unigrams:\", len(unigram_c))\n",
    "print(\"Bigrams:\", len(bigram_c))\n",
    "print(\"Trigrams:\", len(trigram_c))\n",
    "print(\"Quadrigrams:\", len(quadrigram_c))\n"
   ]
  },
  {
   "cell_type": "code",
   "execution_count": 6,
   "id": "f7dbac79",
   "metadata": {},
   "outputs": [
    {
     "name": "stdout",
     "output_type": "stream",
     "text": [
      "Vocabulary size: 199997\n"
     ]
    }
   ],
   "source": [
    "vocab = set()\n",
    "for ng in unigram_c:\n",
    "    for w in ng.split():\n",
    "        vocab.add(w)\n",
    "\n",
    "vocab_size = len(vocab)\n",
    "print(\"Vocabulary size:\", vocab_size)\n"
   ]
  },
  {
   "cell_type": "code",
   "execution_count": 7,
   "id": "9eb1657d",
   "metadata": {},
   "outputs": [],
   "source": [
    "def estimate_lambdas(quad_c, tri_c, bi_c, uni_c):\n",
    "    lambda_counts = [0,0,0,0]\n",
    "\n",
    "    for qng, qcount in quad_c.items():\n",
    "        if qcount < 2:  # skip too rare events\n",
    "            continue\n",
    "\n",
    "        w1,w2,w3,w4 = qng.split()\n",
    "        trig = \" \".join([w2,w3,w4])\n",
    "        bigr = \" \".join([w3,w4])\n",
    "        unigr = w4\n",
    "\n",
    "        # leave-one-out counts\n",
    "        trig_prefix = \" \".join([w1,w2,w3])\n",
    "        trig_count = tri_c.get(trig_prefix, 0)\n",
    "        bigr_count = bi_c.get(\" \".join([w2,w3]), 0)\n",
    "        unigr_count = uni_c.get(w3, 0)\n",
    "\n",
    "        probs = [\n",
    "            (qcount-1) / max(1, trig_count-1),             # quadrigram\n",
    "            tri_c.get(trig,0) / max(1, bigr_count-1),      # trigram\n",
    "            bi_c.get(bigr,0) / max(1, unigr_count-1),      # bigram\n",
    "            uni_c.get(unigr,0) / sum(uni_c.values())       # unigram\n",
    "        ]\n",
    "\n",
    "        max_index = np.argmax(probs)\n",
    "        lambda_counts[max_index] += qcount\n",
    "\n",
    "    total = sum(lambda_counts)\n",
    "    if total == 0:\n",
    "        return [0.25,0.25,0.25,0.25]  # fallback\n",
    "    return [c/total for c in lambda_counts]\n"
   ]
  },
  {
   "cell_type": "code",
   "execution_count": null,
   "id": "37351371",
   "metadata": {},
   "outputs": [
    {
     "name": "stdout",
     "output_type": "stream",
     "text": [
      "Estimated λ values (per fold and average):\n"
     ]
    },
    {
     "data": {
      "text/html": [
       "<div>\n",
       "<style scoped>\n",
       "    .dataframe tbody tr th:only-of-type {\n",
       "        vertical-align: middle;\n",
       "    }\n",
       "\n",
       "    .dataframe tbody tr th {\n",
       "        vertical-align: top;\n",
       "    }\n",
       "\n",
       "    .dataframe thead th {\n",
       "        text-align: right;\n",
       "    }\n",
       "</style>\n",
       "<table border=\"1\" class=\"dataframe\">\n",
       "  <thead>\n",
       "    <tr style=\"text-align: right;\">\n",
       "      <th></th>\n",
       "      <th>λ4 (Quad)</th>\n",
       "      <th>λ3 (Tri)</th>\n",
       "      <th>λ2 (Bi)</th>\n",
       "      <th>λ1 (Uni)</th>\n",
       "    </tr>\n",
       "  </thead>\n",
       "  <tbody>\n",
       "    <tr>\n",
       "      <th>0</th>\n",
       "      <td>0.708414</td>\n",
       "      <td>0.205019</td>\n",
       "      <td>0.084701</td>\n",
       "      <td>0.001866</td>\n",
       "    </tr>\n",
       "    <tr>\n",
       "      <th>1</th>\n",
       "      <td>0.708414</td>\n",
       "      <td>0.205019</td>\n",
       "      <td>0.084701</td>\n",
       "      <td>0.001866</td>\n",
       "    </tr>\n",
       "    <tr>\n",
       "      <th>2</th>\n",
       "      <td>0.708414</td>\n",
       "      <td>0.205019</td>\n",
       "      <td>0.084701</td>\n",
       "      <td>0.001866</td>\n",
       "    </tr>\n",
       "    <tr>\n",
       "      <th>3</th>\n",
       "      <td>0.708414</td>\n",
       "      <td>0.205019</td>\n",
       "      <td>0.084701</td>\n",
       "      <td>0.001866</td>\n",
       "    </tr>\n",
       "    <tr>\n",
       "      <th>4</th>\n",
       "      <td>0.708414</td>\n",
       "      <td>0.205019</td>\n",
       "      <td>0.084701</td>\n",
       "      <td>0.001866</td>\n",
       "    </tr>\n",
       "    <tr>\n",
       "      <th>Average</th>\n",
       "      <td>0.708414</td>\n",
       "      <td>0.205019</td>\n",
       "      <td>0.084701</td>\n",
       "      <td>0.001866</td>\n",
       "    </tr>\n",
       "  </tbody>\n",
       "</table>\n",
       "</div>"
      ],
      "text/plain": [
       "         λ4 (Quad)  λ3 (Tri)   λ2 (Bi)  λ1 (Uni)\n",
       "0         0.708414  0.205019  0.084701  0.001866\n",
       "1         0.708414  0.205019  0.084701  0.001866\n",
       "2         0.708414  0.205019  0.084701  0.001866\n",
       "3         0.708414  0.205019  0.084701  0.001866\n",
       "4         0.708414  0.205019  0.084701  0.001866\n",
       "Average   0.708414  0.205019  0.084701  0.001866"
      ]
     },
     "metadata": {},
     "output_type": "display_data"
    }
   ],
   "source": [
    "# Load validation sentences\n",
    "val = pd.read_csv(\"val_sentences.csv\")\n",
    "val_sentences = val[\"sentence\"].tolist()\n",
    "\n",
    "kf = KFold(n_splits=5, shuffle=True, random_state=42)\n",
    "all_lambdas = []\n",
    "\n",
    "for train_idx, test_idx in kf.split(val_sentences):\n",
    "  \n",
    "    lambdas = estimate_lambdas(quadrigram_c, trigram_c, bigram_c, unigram_c)\n",
    "    all_lambdas.append(lambdas)\n",
    "\n",
    "df_lambda = pd.DataFrame(all_lambdas, columns=[\"λ4 (Quad)\",\"λ3 (Tri)\",\"λ2 (Bi)\",\"λ1 (Uni)\"])\n",
    "df_lambda.loc[\"Average\"] = df_lambda.mean()\n",
    "print(\"Estimated λ values (per fold and average):\")\n",
    "display(df_lambda)\n"
   ]
  },
  {
   "cell_type": "code",
   "execution_count": 9,
   "id": "855e44c7",
   "metadata": {},
   "outputs": [],
   "source": [
    "def interpolated_prob(ngram, lambdas):\n",
    "    w = ngram.split()\n",
    "    if len(w) != 4: \n",
    "        return 1e-12\n",
    "\n",
    "    quad = quadrigram_c.get(\" \".join(w),0) / max(1,trigram_c.get(\" \".join(w[:3]),0))\n",
    "    tri  = trigram_c.get(\" \".join(w[1:]),0) / max(1,bigram_c.get(\" \".join(w[1:3]),0))\n",
    "    bi   = bigram_c.get(\" \".join(w[2:]),0) / max(1,unigram_c.get(w[2],0))\n",
    "    uni  = unigram_c.get(w[3],0) / sum(unigram_c.values())\n",
    "\n",
    "    return lambdas[0]*quad + lambdas[1]*tri + lambdas[2]*bi + lambdas[3]*uni\n"
   ]
  },
  {
   "cell_type": "code",
   "execution_count": 10,
   "id": "bab88d0c",
   "metadata": {},
   "outputs": [],
   "source": [
    "def sentence_prob_interp(sentence, lambdas):\n",
    "    tokens = [\"<s>\",\"<s>\",\"<s>\"] + sentence.strip().split() + [\"</s>\"]\n",
    "    log_prob = 0.0\n",
    "    for i in range(len(tokens)-3):\n",
    "        ng = \" \".join(tokens[i:i+4])\n",
    "        p = interpolated_prob(ng, lambdas)\n",
    "        log_prob += math.log(p if p>0 else 1e-15)\n",
    "    return log_prob\n",
    "\n",
    "def sentence_perplexity_interp(sentence, lambdas):\n",
    "    tokens = sentence.strip().split()\n",
    "    logp = sentence_prob_interp(sentence, lambdas)\n",
    "    return math.exp(-logp / max(1,len(tokens)))\n"
   ]
  },
  {
   "cell_type": "code",
   "execution_count": null,
   "id": "a123e3be",
   "metadata": {},
   "outputs": [
    {
     "name": "stdout",
     "output_type": "stream",
     "text": [
      "Using averaged λ values: [0.708413735452884, 0.2050189253402777, 0.08470105707429092, 0.0018662821325473665]\n",
      "\n",
      "Sentence: कम  से  कम  यह  तो  बता  दिया  जाए  कि  आखिर  उन्हें  गैस  कहां  से  मिलेगी ।\n",
      "  LogProb: -126.7709, Perplexity: 2760.5391\n",
      "\n",
      "Sentence: शारिब  रूदौलवी  ने  कहा  कि  जिगर  से  मेरा  गहरा  ताल्लुक  रहा  है  यही  कारण  है  कि  उनके  मृत्यु  के  बाद  मैंने  इनपर  किताब  लिखने  का  फैसला  किया  1960 में  जिगर  का  देहांत  हुआ  तो  मुझे  बहुत  तकलीफ  हुई  कि  उनपर  कुछ  ज्यादा  लिखा  नहीं  गया  था  कुछ  मजामीन  के ।\n",
      "  LogProb: -524.3225, Perplexity: 35826.7231\n",
      "\n",
      "Sentence: िंध  का  समूचा  इलाका  संपदाओं  से  लबरेज  उर्वशी  रौतेला  का  जन्म  25 - 02 - 1994 को  भारत  के  उत्तराखंड  राज्य  के  कोटद्वार , पौड़ी  गढ़वाल  में  हुआ  था ।\n",
      "  LogProb: -315.1057, Perplexity: 36443.6559\n",
      "\n",
      "Sentence: इन  केंद्रों  पर  आगामी  28 फरवरी  तक  28 हजार  400 मीट्रिक  टन  धान  की  खरीद  की  जाएगी ।\n",
      "  LogProb: -99.5014, Perplexity: 251.6033\n",
      "\n",
      "Sentence: इंदौर ।\n",
      "  LogProb: -12.0790, Perplexity: 419.6738\n"
     ]
    }
   ],
   "source": [
    "best_lambdas = df_lambda.loc[\"Average\"].values.tolist()\n",
    "\n",
    "print(\"Using averaged λ values:\", best_lambdas)\n",
    "\n",
    "for s in val_sentences[:5]:\n",
    "    logp = sentence_prob_interp(s, best_lambdas)\n",
    "    ppl = sentence_perplexity_interp(s, best_lambdas)\n",
    "    print(f\"\\nSentence: {s}\")\n",
    "    print(f\"  LogProb: {logp:.4f}, Perplexity: {ppl:.4f}\")\n"
   ]
  },
  {
   "cell_type": "code",
   "execution_count": null,
   "id": "7afb6b60",
   "metadata": {},
   "outputs": [],
   "source": []
  }
 ],
 "metadata": {
  "kernelspec": {
   "display_name": "base",
   "language": "python",
   "name": "python3"
  },
  "language_info": {
   "codemirror_mode": {
    "name": "ipython",
    "version": 3
   },
   "file_extension": ".py",
   "mimetype": "text/x-python",
   "name": "python",
   "nbconvert_exporter": "python",
   "pygments_lexer": "ipython3",
   "version": "3.13.5"
  }
 },
 "nbformat": 4,
 "nbformat_minor": 5
}
