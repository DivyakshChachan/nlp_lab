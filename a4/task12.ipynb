{
 "cells": [
  {
   "cell_type": "code",
   "execution_count": 1,
   "id": "30d10329",
   "metadata": {},
   "outputs": [],
   "source": [
    "\n",
    "from collections import Counter\n",
    "import io, csv\n",
    "from tqdm import tqdm\n"
   ]
  },
  {
   "cell_type": "code",
   "execution_count": 2,
   "id": "3a372ea5",
   "metadata": {},
   "outputs": [],
   "source": [
    "\n",
    "path = r\"C:\\Users\\evilk\\OneDrive\\Desktop\\III YEAR\\LABS\\NLP\\LAB1\\tokenized_hindi.txt\"\n"
   ]
  },
  {
   "cell_type": "code",
   "execution_count": 3,
   "id": "35cfc60a",
   "metadata": {},
   "outputs": [],
   "source": [
    "\n",
    "def build_counts(path):\n",
    "    unigram_c = Counter()\n",
    "    bigram_c = Counter()\n",
    "    trigram_c = Counter()\n",
    "    quadrigram_c = Counter()\n",
    "\n",
    "    with io.open(path, \"r\", encoding=\"utf-8\", buffering=1024*1024) as f:\n",
    "        for line in tqdm(f, desc=\"Building n-gram counts\"):\n",
    "            words = line.strip().split()\n",
    "            if not words:\n",
    "                continue\n",
    "\n",
    "            sent = [\"<s>\"] + words + [\"</s>\"]\n",
    "\n",
    "            #Batch updates with zip (much faster)\n",
    "            unigram_c.update(sent)\n",
    "            bigram_c.update(zip(sent[:-1], sent[1:]))\n",
    "            trigram_c.update(zip(sent[:-2], sent[1:-1], sent[2:]))\n",
    "            quadrigram_c.update(zip(sent[:-3], sent[1:-2], sent[2:-1], sent[3:]))\n",
    "\n",
    "    print(\"Finished building counts\")\n",
    "    return unigram_c, bigram_c, trigram_c, quadrigram_c\n"
   ]
  },
  {
   "cell_type": "code",
   "execution_count": 4,
   "id": "5282b043",
   "metadata": {},
   "outputs": [
    {
     "name": "stderr",
     "output_type": "stream",
     "text": [
      "Building n-gram counts: 4800107it [07:22, 10845.16it/s]"
     ]
    },
    {
     "name": "stdout",
     "output_type": "stream",
     "text": [
      "Finished building counts\n",
      "Unique unigrams: 804388\n",
      "Unique bigrams: 10059390\n",
      "Unique trigrams: 33277451\n",
      "Unique quadrigrams: 54638391\n",
      "Total tokens (N): 100840225\n"
     ]
    },
    {
     "name": "stderr",
     "output_type": "stream",
     "text": [
      "\n"
     ]
    }
   ],
   "source": [
    "\n",
    "unigram_c, bigram_c, trigram_c, quadrigram_c = build_counts(path)\n",
    "\n",
    "print(\"Unique unigrams:\", len(unigram_c))\n",
    "print(\"Unique bigrams:\", len(bigram_c))\n",
    "print(\"Unique trigrams:\", len(trigram_c))\n",
    "print(\"Unique quadrigrams:\", len(quadrigram_c))\n",
    "\n",
    "# Totals\n",
    "N = sum(unigram_c.values())\n",
    "V_uni = len(unigram_c)\n",
    "V_bi  = len(bigram_c)\n",
    "V_tri = len(trigram_c)\n",
    "\n",
    "print(\"Total tokens (N):\", N)\n"
   ]
  },
  {
   "cell_type": "code",
   "execution_count": 5,
   "id": "588485b7",
   "metadata": {},
   "outputs": [],
   "source": [
    "# Modified save function to also store counts\n",
    "def save_ngram_probs(counter, base_counter, filename_prefix, top_n=1000, k=0.6):\n",
    "    \"\"\"\n",
    "    Save n-gram counts and probabilities into CSV.\n",
    "    counter        : Counter of n-grams\n",
    "    base_counter   : Denominator counts (None for unigrams)\n",
    "    filename_prefix: \"unigram\", \"bigram\", etc.\n",
    "    top_n          : number of top n-grams to save\n",
    "    k              : value for Add-K smoothing\n",
    "    \"\"\"\n",
    "\n",
    "    V = len(base_counter) if base_counter else len(counter)\n",
    "    csv_file = f\"{filename_prefix}.csv\"\n",
    "\n",
    "    with open(csv_file, \"w\", newline=\"\", encoding=\"utf-8\") as f:\n",
    "        writer = csv.writer(f)\n",
    "        # Added \"Count\" column\n",
    "        writer.writerow([\"Ngram\", \"Count\", \"Raw\", \"Add-One\", \"Add-K\", \"Token-Type\"])\n",
    "\n",
    "        for ngram, count in tqdm(counter.most_common(top_n), desc=f\"Saving {filename_prefix}\"):\n",
    "            key = \" \".join(ngram) if isinstance(ngram, tuple) else ngram\n",
    "\n",
    "            if base_counter:\n",
    "                denom = base_counter.get(ngram[:-1], 0)\n",
    "            else:  # unigram\n",
    "                denom = N\n",
    "\n",
    "            # Probabilities\n",
    "            raw  = count / denom if denom > 0 else count / N\n",
    "            add1 = (count + 1) / (denom + V) if denom > 0 else (count + 1) / (N + V)\n",
    "            addk = (count + k) / (denom + k*V) if denom > 0 else (count + k) / (N + k*V)\n",
    "            tokT = (count + V) / (denom + V*V) if denom > 0 else (count + V) / (N + V*V)\n",
    "\n",
    "            # Now store count as well\n",
    "            writer.writerow([key, count, raw, add1, addk, tokT])\n",
    "\n",
    "    print(f\"Saved top {top_n} {filename_prefix}s → {csv_file}\")\n"
   ]
  },
  {
   "cell_type": "code",
   "execution_count": 6,
   "id": "b8907c1b",
   "metadata": {},
   "outputs": [
    {
     "name": "stderr",
     "output_type": "stream",
     "text": [
      "Saving unigram: 100%|██████████| 200000/200000 [00:01<00:00, 147983.69it/s]\n"
     ]
    },
    {
     "name": "stdout",
     "output_type": "stream",
     "text": [
      "Saved top 200000 unigrams → unigram.csv\n"
     ]
    },
    {
     "name": "stderr",
     "output_type": "stream",
     "text": [
      "Saving bigram: 100%|██████████| 200000/200000 [00:01<00:00, 112917.05it/s]\n"
     ]
    },
    {
     "name": "stdout",
     "output_type": "stream",
     "text": [
      "Saved top 200000 bigrams → bigram.csv\n"
     ]
    },
    {
     "name": "stderr",
     "output_type": "stream",
     "text": [
      "Saving trigram: 100%|██████████| 200000/200000 [00:02<00:00, 89021.69it/s] \n"
     ]
    },
    {
     "name": "stdout",
     "output_type": "stream",
     "text": [
      "Saved top 200000 trigrams → trigram.csv\n"
     ]
    },
    {
     "name": "stderr",
     "output_type": "stream",
     "text": [
      "Saving quadrigram: 100%|██████████| 200000/200000 [00:04<00:00, 43557.76it/s]"
     ]
    },
    {
     "name": "stdout",
     "output_type": "stream",
     "text": [
      "Saved top 200000 quadrigrams → quadrigram.csv\n"
     ]
    },
    {
     "name": "stderr",
     "output_type": "stream",
     "text": [
      "\n"
     ]
    }
   ],
   "source": [
    "#Save all n-gram CSVs\n",
    "save_ngram_probs(unigram_c, None, \"unigram\", top_n=200000)\n",
    "save_ngram_probs(bigram_c, unigram_c, \"bigram\", top_n=200000)\n",
    "save_ngram_probs(trigram_c, bigram_c, \"trigram\", top_n=200000)\n",
    "save_ngram_probs(quadrigram_c, trigram_c, \"quadrigram\", top_n=200000)\n"
   ]
  }
 ],
 "metadata": {
  "kernelspec": {
   "display_name": "base",
   "language": "python",
   "name": "python3"
  },
  "language_info": {
   "codemirror_mode": {
    "name": "ipython",
    "version": 3
   },
   "file_extension": ".py",
   "mimetype": "text/x-python",
   "name": "python",
   "nbconvert_exporter": "python",
   "pygments_lexer": "ipython3",
   "version": "3.13.5"
  }
 },
 "nbformat": 4,
 "nbformat_minor": 5
}
